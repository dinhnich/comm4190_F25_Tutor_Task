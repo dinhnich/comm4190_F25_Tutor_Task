{
 "cells": [
  {
   "cell_type": "markdown",
   "id": "191925f2-dac8-4a8d-9098-1cbb6d3a7f2c",
   "metadata": {},
   "source": [
    "## Evaluation"
   ]
  },
  {
   "cell_type": "markdown",
   "id": "b16182e8-5196-481a-ac4f-f5a8e004f9a6",
   "metadata": {},
   "source": [
    "**Subjective Experience**\n",
    "\n",
    "1. I found Session 1 to be helpful but too general. I had to ask specific questions and dig deeper on my own to learn more about the topic. I also noticed that I was the one steering the conversation, setting the direction and guiding it, instead of the tutor doing so. This felt odd because it required me to already have some prior knowledge, which is a problem since a tutor should teach me things I am not yet familiar with.\n",
    "\n",
    "The tutoring style was very direct and transactional. I asked a question, and it provided an answer. While it sometimes offered useful, unprompted information and included examples that I appreciated, the interaction overall felt more like using a search engine than working with a tutor. I also noticed that it allowed me to go off track easily, such as when I asked an unrelated question like why the sky is blue.\n",
    "\n",
    "2. Session 2 was a much more engaging and insightful experience. The LLM truly felt like a professional tutor. It asked about my background, interests, and current level of knowledge before tailoring its responses to fit my needs. This session was also more interactive and challenging. The tutor presented scenarios for me to analyze, asked me to explain my reasoning, and posed questions that required deeper thinking.\n",
    "\n",
    "It also introduced questions on topics we had not yet discussed, encouraging me to expand my understanding beyond what I had initially considered. This approach felt much more like genuine tutoring, guiding and challenging me while helping me learn in areas I might not have explored on my own. Lastly, when I tried to distract it, it asked whether I wanted to continue with basketball or switch to a new topic. Although it did not directly insist that I stay on basketball, it gave me a choice and explained that it is helpful to focus on one topic at a time."
   ]
  },
  {
   "cell_type": "markdown",
   "id": "c191bb56-8636-481f-8ff2-de1c1789a32d",
   "metadata": {},
   "source": [
    "**Observations on Wording**\n",
    "\n",
    "1. The first thing I noticed in my first session was that most of the responses were presented in bullet points or lists. The LLM often used headings and subheadings to structure its answers. While the overall output focused on one general topic, the responses tended to cover several aspects at once instead of narrowing in on one specific idea.\n",
    "\n",
    "I also observed that it gave me much of the directional control. Although it offered options, it ultimately left the decision-making up to me. Because it provided so many choices, the responses sometimes lacked depth and substance. It wasn’t until I steered the conversation in a specific direction that the discussion became more meaningful and went beyond surface-level information.\n",
    "\n",
    "Finally, I noticed that the LLM used an explanatory approach rather than allowing me to figure things out on my own. It focused on explaining concepts in a simple and straightforward way, which made the material easy to understand but not particularly challenging.\n",
    "\n",
    "2. The second session showed major improvements compared to the first. The initial prompt clearly established the LLM’s role as a tutor, which made its responses feel more purposeful and focused than those of a general AI assistant. The structured prompt also clarified what the discussion would center on, allowing the LLM to prepare and guide the session effectively.\n",
    "\n",
    "From the beginning, it directed the conversation by asking what topic I wanted to learn about and why it interested me. Importantly, it waited for my response before continuing, which showed that it was following a plan and building each question on the last.\n",
    "\n",
    "Another key difference was that in Session 1, it would immediately answer every prompt. In contrast, Session 2 began by asking questions to gauge my understanding before introducing content. The tutoring approach combined explanations with comprehension checks. When I answered correctly, it explained why my answer was right and then guided the discussion toward a related concept. If I demonstrated a solid understanding, it increased the difficulty of the questions or introduced more complex situations that I hadn’t yet considered."
   ]
  }
 ],
 "metadata": {
  "kernelspec": {
   "display_name": "Python 3 (ipykernel)",
   "language": "python",
   "name": "python3"
  },
  "language_info": {
   "codemirror_mode": {
    "name": "ipython",
    "version": 3
   },
   "file_extension": ".py",
   "mimetype": "text/x-python",
   "name": "python",
   "nbconvert_exporter": "python",
   "pygments_lexer": "ipython3",
   "version": "3.10.12"
  }
 },
 "nbformat": 4,
 "nbformat_minor": 5
}
