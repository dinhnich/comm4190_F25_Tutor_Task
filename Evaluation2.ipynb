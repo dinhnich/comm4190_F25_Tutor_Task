{
 "cells": [
  {
   "cell_type": "markdown",
   "id": "d77be95f-f4b1-4997-ba35-8481994de414",
   "metadata": {},
   "source": [
    "I noticed with the modifcations, I was given more open-ended questions rather than set options when answering a question. AI also asked me to explain and would challenge me to think about some of the basketball concepts we were talking about. It did this after giving a lesson and before starting another one. Essentially, it was probing my understanding. Lastly, it asked me to reflect why learning this was important and the significance of these rules in basketball."
   ]
  }
 ],
 "metadata": {
  "kernelspec": {
   "display_name": "Python 3 (ipykernel)",
   "language": "python",
   "name": "python3"
  },
  "language_info": {
   "codemirror_mode": {
    "name": "ipython",
    "version": 3
   },
   "file_extension": ".py",
   "mimetype": "text/x-python",
   "name": "python",
   "nbconvert_exporter": "python",
   "pygments_lexer": "ipython3",
   "version": "3.10.12"
  }
 },
 "nbformat": 4,
 "nbformat_minor": 5
}
